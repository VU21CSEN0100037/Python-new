{
  "nbformat": 4,
  "nbformat_minor": 0,
  "metadata": {
    "colab": {
      "name": "MODULE 1",
      "provenance": [],
      "collapsed_sections": [],
      "authorship_tag": "ABX9TyMM2U1yFYqqjGxnxJtfF6DG",
      "include_colab_link": true
    },
    "kernelspec": {
      "name": "python3",
      "display_name": "Python 3"
    },
    "language_info": {
      "name": "python"
    }
  },
  "cells": [
    {
      "cell_type": "markdown",
      "metadata": {
        "id": "view-in-github",
        "colab_type": "text"
      },
      "source": [
        "<a href=\"https://colab.research.google.com/github/VU21CSEN0100037/Python-new/blob/module-1/MODULE_1.ipynb\" target=\"_parent\"><img src=\"https://colab.research.google.com/assets/colab-badge.svg\" alt=\"Open In Colab\"/></a>"
      ]
    },
    {
      "cell_type": "markdown",
      "source": [
        "Accept input from user and store it in variable and print the value."
      ],
      "metadata": {
        "id": "9q3azaHbdUlZ"
      }
    },
    {
      "cell_type": "code",
      "source": [
        "a=450\n",
        "b=380\n",
        "c=int(input())\n",
        "d=int(input())\n",
        "e=(a)-(b)-(c)-(d)\n",
        "print(e)"
      ],
      "metadata": {
        "colab": {
          "base_uri": "https://localhost:8080/"
        },
        "id": "wHYQBlybdeMu",
        "outputId": "ecf82cef-caeb-43ab-9518-66ed32926c9b"
      },
      "execution_count": 5,
      "outputs": [
        {
          "output_type": "stream",
          "name": "stdout",
          "text": [
            "42\n",
            "69\n",
            "-41\n"
          ]
        }
      ]
    },
    {
      "cell_type": "markdown",
      "source": [
        "Use of print statements and use of (.format )for printing different data types"
      ],
      "metadata": {
        "id": "OE6emFnXfQto"
      }
    },
    {
      "cell_type": "code",
      "source": [
        "brandname=\"juene\"\n",
        "quantity=5\n",
        "itemno=111\n",
        "price=200\n",
        "myorder =\"i want {} pieces of itemno {} for {} rupees.\"\n",
        "print(myorder.format(brandname,quantity,itemno,price))\n"
      ],
      "metadata": {
        "colab": {
          "base_uri": "https://localhost:8080/"
        },
        "id": "DNq4MpDzfSc-",
        "outputId": "5b67f6cc-776e-42e3-dfa5-423ff96d252f"
      },
      "execution_count": null,
      "outputs": [
        {
          "output_type": "stream",
          "name": "stdout",
          "text": [
            "i want juene pieces of itemno 5 for 111 rupees.\n"
          ]
        }
      ]
    },
    {
      "cell_type": "markdown",
      "source": [
        "Take 2 numbers as user input and add, multiply, divide, subtract, remainder and print\n",
        "the output(Same operations on floating point input as well)"
      ],
      "metadata": {
        "id": "vAQzPOu6haFP"
      }
    },
    {
      "cell_type": "code",
      "source": [
        "a=float(input(\"enter a number\"))\n",
        "b=float(input(\"enter a number\"))\n",
        "sum=a+b\n",
        "print(sum)\n",
        "subt=a-b\n",
        "print(subt)\n",
        "multi=a*b\n",
        "print(multi)\n",
        "div=a/b\n",
        "print(div)\n",
        "rem=a%b\n",
        "print(rem)\n",
        "print(type(a))"
      ],
      "metadata": {
        "colab": {
          "base_uri": "https://localhost:8080/"
        },
        "id": "9kk9WIJphhGu",
        "outputId": "17eb4dc4-7c0c-410c-d535-e514bf65b3b1"
      },
      "execution_count": 2,
      "outputs": [
        {
          "output_type": "stream",
          "name": "stdout",
          "text": [
            "enter a number456\n",
            "enter a number54\n",
            "510.0\n",
            "402.0\n",
            "24624.0\n",
            "8.444444444444445\n",
            "24.0\n",
            "<class 'float'>\n"
          ]
        }
      ]
    },
    {
      "cell_type": "markdown",
      "source": [
        "Conversion of one unit to another (such as hours to minutes, miles to km and etc)"
      ],
      "metadata": {
        "id": "e2hyR56OkFvH"
      }
    },
    {
      "cell_type": "code",
      "source": [
        "a=float(input(\"enter hours\"))\n",
        "print(\"minutes are=\",a*60)\n",
        "b=float(input(\"enter miles\"))\n",
        "print(\"km are=\",b*1.6)"
      ],
      "metadata": {
        "colab": {
          "base_uri": "https://localhost:8080/"
        },
        "id": "B_DhU4xKkGdX",
        "outputId": "968f5b40-357b-4d85-e9d8-73df2fad1450"
      },
      "execution_count": null,
      "outputs": [
        {
          "output_type": "stream",
          "name": "stdout",
          "text": [
            "enter hours3\n",
            "minutes are= 180.0\n",
            "enter miles4\n",
            "km are= 6.4\n"
          ]
        }
      ]
    },
    {
      "cell_type": "markdown",
      "source": [
        "Usage of mathematical functions in python like math.ceil, floor, fabs, fmod, trunc,\n",
        "pow, sqrt etc."
      ],
      "metadata": {
        "id": "YIJ0A59rFRjb"
      }
    },
    {
      "cell_type": "code",
      "source": [
        "import math\n",
        "my_int=4.5678\n",
        "print(math.ceil(my_int))\n",
        "my_int=4.5678\n",
        "print(math.floor(my_int))\n",
        "my_int=4.5678\n",
        "print(math.fabs(my_int))\n",
        "print(math.fmod(4.5678, 7.8976))\n",
        "my_int=4.5678\n",
        "print(math.trunc(my_int))\n",
        "print(math.pow(4.5678, 7.8976))\n",
        "my_int=4.5678\n",
        "print(math.sqrt(my_int))"
      ],
      "metadata": {
        "colab": {
          "base_uri": "https://localhost:8080/"
        },
        "id": "D4VGDaemFUeJ",
        "outputId": "037ba768-d6cc-4c65-ecbf-2dc870d8463f"
      },
      "execution_count": null,
      "outputs": [
        {
          "output_type": "stream",
          "name": "stdout",
          "text": [
            "5\n",
            "4\n",
            "4.5678\n",
            "4.5678\n",
            "4\n",
            "162219.3423504213\n",
            "2.1372412124044398\n"
          ]
        }
      ]
    },
    {
      "cell_type": "markdown",
      "source": [
        "Building a mathematical calculator that can perform operations according to user input.\n",
        "Use decision making statement.\n",
        "x Accepting 5 different subject mark"
      ],
      "metadata": {
        "id": "4LVO-jXPGSOn"
      }
    },
    {
      "cell_type": "code",
      "source": [
        "a=float (input (\"enter number \"))\n",
        "b=float (input (\"enter a number \"))\n",
        "i=input(\"enter operation\")\n",
        "if i==\"+\":\n",
        "  print (a+b)\n",
        "elif i==\"-\":\n",
        " print(a-b)\n",
        "elif i==\"%\":\n",
        " print (a*b)\n",
        "elif i==\"*\":\n",
        " print (a*b)\n",
        "else:\n",
        " print(a/b)\n",
        " \n"
      ],
      "metadata": {
        "colab": {
          "base_uri": "https://localhost:8080/"
        },
        "id": "ZOdBEksnGTRJ",
        "outputId": "2cb9ca57-2b80-4427-bddc-b15766dae79b"
      },
      "execution_count": 4,
      "outputs": [
        {
          "output_type": "stream",
          "name": "stdout",
          "text": [
            "enter number 546\n",
            "enter a number 231\n",
            "enter operation*\n",
            "126126.0\n"
          ]
        }
      ]
    },
    {
      "cell_type": "markdown",
      "source": [
        "Accepting 5 different subject marks from user and displaying the grade of the student."
      ],
      "metadata": {
        "id": "LZwCncukpreB"
      }
    },
    {
      "cell_type": "code",
      "source": [
        "a=float(input(\"enter a 1st subject number\"))\n",
        "b=float(input(\"enter a 2nd subject number\"))\n",
        "c=float(input(\"enter a 3rd subject number\"))\n",
        "d=float(input(\"enter a 4th subject number\"))\n",
        "e=float(input(\"enter a 5th subject number\"))\n",
        "f=(a+b+c+d+e)/5\n",
        "if f>90:\n",
        "  print(\"grade A\")\n",
        "elif f>80 and f<90:\n",
        "  print(\"grade B\")\n",
        "elif f>70 and f<80:\n",
        "  print(\"grade C\")\n",
        "elif f<70:\n",
        "  print(\"grade D\")"
      ],
      "metadata": {
        "colab": {
          "base_uri": "https://localhost:8080/"
        },
        "id": "x4mEsqlSpvSR",
        "outputId": "638964e7-1837-4d24-ffbe-deef8c40428d"
      },
      "execution_count": null,
      "outputs": [
        {
          "output_type": "stream",
          "name": "stdout",
          "text": [
            "enter a 1st subject number55.3\n",
            "enter a 2nd subject number88.3\n",
            "enter a 3rd subject number95.2\n",
            "enter a 4th subject number49.2\n",
            "enter a 5th subject number99\n",
            "grade C\n"
          ]
        }
      ]
    },
    {
      "cell_type": "markdown",
      "source": [
        "Printing all even numbers, odd numbers, count of even numbers, count of odd numbers\n",
        "within a given range."
      ],
      "metadata": {
        "id": "8ij6sxHlRIbs"
      }
    },
    {
      "cell_type": "code",
      "source": [
        "n=int(input (\"enter range \"))\n",
        "c=0\n",
        "for i in range(1,n+1):\n",
        " if i%2==0: \n",
        "   c+=1\n",
        "   print(i)\n",
        "\n",
        "print(\"even count is \",c)\n",
        "\n",
        "d=0\n",
        "for i in range (1,n+1): \n",
        "  if i%2!=0:\n",
        "    d+=1\n",
        "  print(i)\n",
        "\n",
        "print(\"odd count is \",d)\n",
        "\n",
        "# Compute the factorial of a given number\n",
        "n=int(input(\"Enter a number\"))\n",
        "fac=1\n",
        "for i in range(1,n+1):\n",
        "   fac=fac*i\n",
        "\n",
        "print(fac)\n",
        "\n",
        "# b) Compute GCD of two given number.\n",
        "a=int(input(\"Enter a number\"))\n",
        "b=int(input(\"Enter a number\"))\n",
        "k=a if a<b else b\n",
        "while True:\n",
        "   if a%k==0 and b%k==0:\n",
        "      break\n",
        "      k+=1\n",
        "print(k)\n",
        "\n",
        "# c) Generate Fibonacci series up to N numbers\n",
        "num=int(input(\"Enter a number\"))\n",
        "n1,n2=0,1\n",
        "print(\"Fibonacci series:\",n1,n2,end=\" \")\n",
        "for i in range(2,num):\n",
        "   n3=n1+n2\n",
        "   n1=n2\n",
        "   n2=n3\n",
        "   print(n3,end=\" \")"
      ],
      "metadata": {
        "colab": {
          "base_uri": "https://localhost:8080/"
        },
        "id": "UgKZpjw-RSzr",
        "outputId": "83c6a7dd-66e2-475e-bfdb-04c557d383f9"
      },
      "execution_count": null,
      "outputs": [
        {
          "output_type": "stream",
          "name": "stdout",
          "text": [
            "enter range 8\n",
            "2\n",
            "4\n",
            "6\n",
            "8\n",
            "even count is  4\n",
            "1\n",
            "2\n",
            "3\n",
            "4\n",
            "5\n",
            "6\n",
            "7\n",
            "8\n",
            "odd count is  4\n",
            "Enter a number9\n",
            "362880\n",
            "Enter a number10\n",
            "Enter a number20\n",
            "10\n",
            "Enter a number27\n",
            "Fibonacci series: 0 1 1 2 3 5 8 13 21 34 55 89 144 233 377 610 987 1597 2584 4181 6765 10946 17711 28657 46368 75025 121393 "
          ]
        }
      ]
    },
    {
      "cell_type": "markdown",
      "source": [
        "Check whether the given input is a) palindrome b) string c) perfect"
      ],
      "metadata": {
        "id": "oIaKOfs4XCPi"
      }
    },
    {
      "cell_type": "code",
      "source": [
        "# a) palindrome\n",
        "def isPalindrome(str):\n",
        " \n",
        "\n",
        "    for i in range(0, int(len(str)/2)):\n",
        "        if str[i] != str[len(str)-i-1]:\n",
        "            return False\n",
        "    return True\n",
        " \n",
        "\n",
        "s=input(\"Enter input:\")\n",
        "ans = isPalindrome(s)\n",
        " \n",
        "if (ans):\n",
        "    print(\"Yes\")\n",
        "else:\n",
        "    print(\"No\")\n"
      ],
      "metadata": {
        "colab": {
          "base_uri": "https://localhost:8080/"
        },
        "id": "bmyRsTqUXFCn",
        "outputId": "4203adfa-f1b0-4867-9a92-f58a9b02411f"
      },
      "execution_count": null,
      "outputs": [
        {
          "output_type": "stream",
          "name": "stdout",
          "text": [
            "Enter input:lichy\n",
            "No\n"
          ]
        }
      ]
    },
    {
      "cell_type": "code",
      "source": [
        " # b) string\n",
        "for x in \"banana\":\n",
        "  print(x)\n",
        "print(type(x))"
      ],
      "metadata": {
        "colab": {
          "base_uri": "https://localhost:8080/"
        },
        "id": "CuiZPSM3iR36",
        "outputId": "a554863a-bced-4945-f74b-1911d857bd28"
      },
      "execution_count": null,
      "outputs": [
        {
          "output_type": "stream",
          "name": "stdout",
          "text": [
            "b\n",
            "a\n",
            "n\n",
            "a\n",
            "n\n",
            "a\n",
            "<class 'str'>\n"
          ]
        }
      ]
    },
    {
      "cell_type": "code",
      "source": [
        "# c) perfect\n",
        "\n",
        "num=int(input(\"Enter the number: \"))  \n",
        "sum_v=0  \n",
        "for i in range(1,num):  \n",
        "    if (num%i==0):  \n",
        "        sum_v=sum_v+i  \n",
        "if(sum_v==num):  \n",
        "    print(\"The entered number is a perfect number\")  \n",
        "else:  \n",
        "    print(\"The entered number is not a perfect number\")"
      ],
      "metadata": {
        "colab": {
          "base_uri": "https://localhost:8080/"
        },
        "id": "NSWJ-4aYiWo8",
        "outputId": "15ae3de8-5c76-43b9-e1cc-976e1be9cf58"
      },
      "execution_count": null,
      "outputs": [
        {
          "output_type": "stream",
          "name": "stdout",
          "text": [
            "Enter the number: 7\n",
            "The entered number is not a perfect number\n"
          ]
        }
      ]
    },
    {
      "cell_type": "markdown",
      "source": [
        "x Compute compound interest using loop for a certain principal and interest amount"
      ],
      "metadata": {
        "id": "i6Euo8-0YysM"
      }
    },
    {
      "cell_type": "code",
      "source": [
        "n=int(input(\"Enter the principle amount:\"))\n",
        "\n",
        "rate=int(input(\"Enter the rate:\"))\n",
        "\n",
        "years=int(input(\"Enter the number of years:\"))\n",
        "\n",
        "for i in range(years):\n",
        "\n",
        "    n=n+((n*rate)/100)\n",
        "\n",
        "print(n)"
      ],
      "metadata": {
        "colab": {
          "base_uri": "https://localhost:8080/"
        },
        "id": "z9KfifyfY1Us",
        "outputId": "5adad273-7d65-416c-e4b0-bbb8f9819ff7"
      },
      "execution_count": null,
      "outputs": [
        {
          "output_type": "stream",
          "name": "stdout",
          "text": [
            "Enter the principle amount:100\n",
            "Enter the rate:2\n",
            "Enter the number of years:2\n",
            "104.04\n"
          ]
        }
      ]
    }
  ]
}