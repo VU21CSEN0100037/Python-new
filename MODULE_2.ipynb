{
  "nbformat": 4,
  "nbformat_minor": 0,
  "metadata": {
    "colab": {
      "name": "MODULE 2",
      "provenance": [],
      "authorship_tag": "ABX9TyOJmX5HJHQqM8YTAnIApXLT",
      "include_colab_link": true
    },
    "kernelspec": {
      "name": "python3",
      "display_name": "Python 3"
    },
    "language_info": {
      "name": "python"
    }
  },
  "cells": [
    {
      "cell_type": "markdown",
      "metadata": {
        "id": "view-in-github",
        "colab_type": "text"
      },
      "source": [
        "<a href=\"https://colab.research.google.com/github/VU21CSEN0100037/Python-new/blob/module-2/MODULE_2.ipynb\" target=\"_parent\"><img src=\"https://colab.research.google.com/assets/colab-badge.svg\" alt=\"Open In Colab\"/></a>"
      ]
    },
    {
      "cell_type": "markdown",
      "source": [
        " Create a function which accepts two inputs from the user and compute n\n",
        "Cr"
      ],
      "metadata": {
        "id": "p_Oc69uV5vsy"
      }
    },
    {
      "cell_type": "code",
      "source": [
        "def fact(i):\n",
        " if i>0:\n",
        "   return i*fact(i-1)\n",
        " else:\n",
        "  return 1\n",
        "def comb(n,r):\n",
        " return (fact(n)/((fact(n-r))*fact(r)))\n",
        "a=int(input('a='))\n",
        "b=int(input('b='))\n",
        "comb(a,b)"
      ],
      "metadata": {
        "colab": {
          "base_uri": "https://localhost:8080/"
        },
        "id": "V4DVNzh66PVh",
        "outputId": "9d172785-4d58-4fb7-e7da-6a0bd9be8254"
      },
      "execution_count": null,
      "outputs": [
        {
          "name": "stdout",
          "output_type": "stream",
          "text": [
            "a=9\n",
            "b=6\n"
          ]
        },
        {
          "output_type": "execute_result",
          "data": {
            "text/plain": [
              "84.0"
            ]
          },
          "metadata": {},
          "execution_count": 8
        }
      ]
    },
    {
      "cell_type": "markdown",
      "source": [
        "Program to get the difference between the two lists"
      ],
      "metadata": {
        "id": "w9EaZrcW7pE9"
      }
    },
    {
      "cell_type": "code",
      "source": [
        "a_list=[9,6,3,5,7,1,8,4,9,5,3,6,5,8,7,6]\n",
        "b_list=[5,9,4,8,3,6,7,2,5,9,4,8,3,9]\n",
        "x=set(a_list)\n",
        "y=set(b_list)\n",
        "z1=x.difference(y)\n",
        "z2=y.difference(x)\n",
        "print(list(z1))\n",
        "print(list(z2))"
      ],
      "metadata": {
        "colab": {
          "base_uri": "https://localhost:8080/"
        },
        "id": "e6yEX1s67p1c",
        "outputId": "0056d74d-09d0-4127-958b-79aa79109d13"
      },
      "execution_count": null,
      "outputs": [
        {
          "output_type": "stream",
          "name": "stdout",
          "text": [
            "[1]\n",
            "[2]\n"
          ]
        }
      ]
    },
    {
      "cell_type": "markdown",
      "source": [
        "Program to find the second smallest number and second largest number in a list."
      ],
      "metadata": {
        "id": "7ZjITWXs-z4D"
      }
    },
    {
      "cell_type": "code",
      "source": [
        "num1_list=[2,1,9,0,9,57,963,348,94]\n",
        "num1_list.sort()\n",
        "print(num1_list)\n",
        "print(\"second smallest num in the given list is: \",num1_list[1])\n",
        "print(\"second largest num in the given list is: \",num1_list[len(num1_list)-2])\n",
        "[2,1,9,0,9,57,963,348,94]"
      ],
      "metadata": {
        "colab": {
          "base_uri": "https://localhost:8080/"
        },
        "id": "qB2vB00v-172",
        "outputId": "0df1fba0-31db-45bf-ac86-f8f91a5e5c92"
      },
      "execution_count": null,
      "outputs": [
        {
          "output_type": "stream",
          "name": "stdout",
          "text": [
            "[0, 1, 2, 9, 9, 57, 94, 348, 963]\n",
            "The second smallest number in the given list is:  1\n",
            "The second largest number in the given list is:  348\n"
          ]
        },
        {
          "output_type": "execute_result",
          "data": {
            "text/plain": [
              "[2, 1, 9, 0, 9, 57, 963, 348, 94]"
            ]
          },
          "metadata": {},
          "execution_count": 17
        }
      ]
    },
    {
      "cell_type": "markdown",
      "source": [
        "Given list of tuples, remove all the tuples with length K.\n",
        "Input : test_list = [(4, 5), (4, ), (8, 6, 7), (1, ), (3, 4, 6, 7)], K = 2\n",
        "Output : [(4, ), (8, 6, 7), (1, ), (3, 4, 6, 7)]\n",
        "Explanation : (4, 5) of len = 2 is removed."
      ],
      "metadata": {
        "id": "NjRyOhkRCzuP"
      }
    },
    {
      "cell_type": "code",
      "source": [
        "test_list = [(4, 5), (4, ), (8, 6, 7), (1, ), (3, 4, 6, 7)]\n",
        "new_list=[]\n",
        "K=2\n",
        "for x in test_list:\n",
        " if len(x)!=K:\n",
        "   new_list.append(x)\n",
        "print(\"The filtered list without containing any element of tupple length '2' is:\",new_list)"
      ],
      "metadata": {
        "colab": {
          "base_uri": "https://localhost:8080/"
        },
        "id": "r1b-hu0rC57W",
        "outputId": "1d23276d-cc2a-4f78-c19b-67c1114942f4"
      },
      "execution_count": null,
      "outputs": [
        {
          "output_type": "stream",
          "name": "stdout",
          "text": [
            "The filtered list without containing any element of tupple length '2' is: [(4,), (8, 6, 7), (1,), (3, 4, 6, 7)]\n"
          ]
        }
      ]
    },
    {
      "cell_type": "markdown",
      "source": [
        "Given a list of numbers of list, write a Python program to create a list of tuples\n",
        "having first element as the number and second element as the square of the\n",
        "number."
      ],
      "metadata": {
        "id": "ZQ44Pua6FJ06"
      }
    },
    {
      "cell_type": "code",
      "source": [
        "a_list=[3,86,4,56,12]\n",
        "result=[(x,x**2) for x in a_list]\n",
        "print(\"The required list is: \",result)"
      ],
      "metadata": {
        "colab": {
          "base_uri": "https://localhost:8080/"
        },
        "id": "PROOHmuZFTY0",
        "outputId": "6a0c2f01-a656-41e2-fa62-750938578f67"
      },
      "execution_count": null,
      "outputs": [
        {
          "output_type": "stream",
          "name": "stdout",
          "text": [
            "The required list is:  [(3, 9), (86, 7396), (4, 16), (56, 3136), (12, 144)]\n"
          ]
        }
      ]
    },
    {
      "cell_type": "markdown",
      "source": [
        " Program to generate and print a dictionary that contains a number (between 1\n",
        "and n) in the form (x, x*x).\n",
        "Sample Input: (n=5) : "
      ],
      "metadata": {
        "id": "uRk581H7qgU2"
      }
    },
    {
      "cell_type": "code",
      "source": [
        "english_dictionary=dict()\n",
        "x=int(input(\"Enter a number:\"))\n",
        "for i in range(1,x+1):\n",
        " english_dictionary.update({i:i**2})\n",
        "print(\"the required dictionary is:\",english_dictionary)"
      ],
      "metadata": {
        "colab": {
          "base_uri": "https://localhost:8080/"
        },
        "id": "GHdzMXkrqshL",
        "outputId": "9854497f-cc45-4cff-c5d8-d24315d206c5"
      },
      "execution_count": null,
      "outputs": [
        {
          "output_type": "stream",
          "name": "stdout",
          "text": [
            "Enter a number:8\n",
            "the required dictionary is: {1: 1, 2: 4, 3: 9, 4: 16, 5: 25, 6: 36, 7: 49, 8: 64}\n"
          ]
        }
      ]
    },
    {
      "cell_type": "code",
      "source": [
        "flowers_shop=dict()\n",
        "x=int(input(\"enter a number:\"))\n",
        "for i in range(1,x+1):\n",
        " flowers_shop.update({i:i**2})\n",
        " print(\"the required shop is:\",flowers_shop)"
      ],
      "metadata": {
        "colab": {
          "base_uri": "https://localhost:8080/"
        },
        "id": "bPO1t1vNrwPs",
        "outputId": "e4e505e9-09c6-4d44-9d47-94dabfb3dd9b"
      },
      "execution_count": null,
      "outputs": [
        {
          "output_type": "stream",
          "name": "stdout",
          "text": [
            "enter a number:8\n",
            "the required shop is: {1: 1}\n",
            "the required shop is: {1: 1, 2: 4}\n",
            "the required shop is: {1: 1, 2: 4, 3: 9}\n",
            "the required shop is: {1: 1, 2: 4, 3: 9, 4: 16}\n",
            "the required shop is: {1: 1, 2: 4, 3: 9, 4: 16, 5: 25}\n",
            "the required shop is: {1: 1, 2: 4, 3: 9, 4: 16, 5: 25, 6: 36}\n",
            "the required shop is: {1: 1, 2: 4, 3: 9, 4: 16, 5: 25, 6: 36, 7: 49}\n",
            "the required shop is: {1: 1, 2: 4, 3: 9, 4: 16, 5: 25, 6: 36, 7: 49, 8: 64}\n"
          ]
        }
      ]
    },
    {
      "cell_type": "markdown",
      "source": [
        "Program to remove a key from a dictionary"
      ],
      "metadata": {
        "id": "LTnjpTt3L37u"
      }
    },
    {
      "cell_type": "code",
      "source": [
        "makeup={\n",
        "  'brand': 'maybelline',\n",
        " 'product':'lip gloss',\n",
        " 'colour':'pale pink ',\n",
        " 'cost':150\n",
        "}\n",
        "makeup.pop('product')\n",
        "print(makeup)\n",
        "del makeup['cost']\n",
        "print(makeup)\n",
        "{'brand': 'maybelline', 'colour': 'pale pink', 'cost': 150}"
      ],
      "metadata": {
        "colab": {
          "base_uri": "https://localhost:8080/"
        },
        "id": "Ztn9Nv9iLzvP",
        "outputId": "870d3d92-b7db-4463-90ff-9b8c096c7ddc"
      },
      "execution_count": null,
      "outputs": [
        {
          "output_type": "stream",
          "name": "stdout",
          "text": [
            "{'brand': 'maybelline', 'colour': 'pale pink ', 'cost': 150}\n",
            "{'brand': 'maybelline', 'colour': 'pale pink '}\n"
          ]
        },
        {
          "output_type": "execute_result",
          "data": {
            "text/plain": [
              "{'brand': 'maybelline', 'colour': 'pale pink', 'cost': 150}"
            ]
          },
          "metadata": {},
          "execution_count": 45
        }
      ]
    },
    {
      "cell_type": "markdown",
      "source": [
        "Program to get the maximum and minimum value in a dictionary"
      ],
      "metadata": {
        "id": "8d8tJO8LN06S"
      }
    },
    {
      "cell_type": "code",
      "source": [
        "the_dictionary={\n",
        " 'a':27, 'b':33, 'c':96, 'd':12\n",
        " }\n",
        "max_value=max(the_dictionary, key=the_dictionary.get)\n",
        "min_value=min(the_dictionary, key=the_dictionary.get)\n",
        "print(\"The max value in the given dictionary has a key: '\"+max_value+\"' and its value is:\",the_dictionary[max_value])\n",
        "print(\"The min value in the given dictionary has a key: '\"+min_value+\"' and its value is:\",the_dictionary[min_value])"
      ],
      "metadata": {
        "colab": {
          "base_uri": "https://localhost:8080/"
        },
        "id": "M3u5V1ZNNkFl",
        "outputId": "aee76d26-4b02-43b6-eb92-61099459afa8"
      },
      "execution_count": null,
      "outputs": [
        {
          "output_type": "stream",
          "name": "stdout",
          "text": [
            "The max value in the given dictionary has a key: 'c' and its value is: 96\n",
            "The min value in the given dictionary has a key: 'd' and its value is: 12\n"
          ]
        }
      ]
    },
    {
      "cell_type": "markdown",
      "source": [
        "Program to perform operations on string using unicodes ,splitting of string,accessing\n",
        "elements of string using locations"
      ],
      "metadata": {
        "id": "OEXjimcuOmDw"
      }
    },
    {
      "cell_type": "code",
      "source": [
        "string=input(\"enter a string: \")\n",
        "print(string.split())\n",
        "print(string[4:19])"
      ],
      "metadata": {
        "colab": {
          "base_uri": "https://localhost:8080/"
        },
        "id": "iUsIJywHoZBB",
        "outputId": "582ef566-83ba-4f3d-a12a-c5f6602b8eff"
      },
      "execution_count": null,
      "outputs": [
        {
          "output_type": "stream",
          "name": "stdout",
          "text": [
            "enter a string: python is more easy and time saving language than c language\n",
            "['python', 'is', 'more', 'easy', 'and', 'time', 'saving', 'language', 'than', 'c', 'language']\n",
            "on is more easy\n"
          ]
        }
      ]
    },
    {
      "cell_type": "markdown",
      "source": [
        "Program for Counting occurrence of a certain element in a string, getting indexes that\n",
        "have matching elements.For ex -.In Rabbit count how many times b has occurred .\n",
        "Example-I have to go to a doctor and get myself checked. Count the number of\n",
        "occXrrences of µWo¶"
      ],
      "metadata": {
        "id": "F0gORXEgomsZ"
      }
    },
    {
      "cell_type": "code",
      "source": [
        "str_1=\"Rabbit\"\n",
        "print(str_1.count('b'))\n",
        "str_2=\"I have to go to a doctor and get myself checked.\"\n",
        "print(str_2.count('to'))"
      ],
      "metadata": {
        "colab": {
          "base_uri": "https://localhost:8080/"
        },
        "id": "IqrJXe3Nt6Bg",
        "outputId": "183e21aa-28ed-4e0c-f12a-02e0657e5e8a"
      },
      "execution_count": null,
      "outputs": [
        {
          "output_type": "stream",
          "name": "stdout",
          "text": [
            "2\n",
            "3\n"
          ]
        }
      ]
    },
    {
      "cell_type": "markdown",
      "source": [
        "Program for replacing one substring by another For example - Rabbit - Replace 'bb' to 'cc'"
      ],
      "metadata": {
        "id": "n9Tki2XQuGxO"
      }
    },
    {
      "cell_type": "code",
      "source": [
        "string='Rabbit'\n",
        "new_string=string.replace('bb','cc')\n",
        "print(new_string)"
      ],
      "metadata": {
        "colab": {
          "base_uri": "https://localhost:8080/"
        },
        "id": "Bk0MktVKuflA",
        "outputId": "b67515cb-bdff-4fde-fadd-984ae6f39e86"
      },
      "execution_count": null,
      "outputs": [
        {
          "output_type": "stream",
          "name": "stdout",
          "text": [
            "Raccit\n"
          ]
        }
      ]
    },
    {
      "cell_type": "markdown",
      "source": [
        "Program to Acronym generator for any user input (ex-input is Random memory access\n",
        "then output should be RMA).Example - Random number (RN)"
      ],
      "metadata": {
        "id": "qDuphPnKujuP"
      }
    },
    {
      "cell_type": "code",
      "source": [
        "string=input(\"enter some string:\")\n",
        "a=string.split()\n",
        "for i in a:\n",
        " print(i[0],end='')"
      ],
      "metadata": {
        "colab": {
          "base_uri": "https://localhost:8080/"
        },
        "id": "KLM2-QzvusAW",
        "outputId": "3f97161e-88e6-4c33-e634-6eb13a5af5e1"
      },
      "execution_count": null,
      "outputs": [
        {
          "output_type": "stream",
          "name": "stdout",
          "text": [
            "enter some string:Random Memory Access\n",
            "RMA"
          ]
        }
      ]
    },
    {
      "cell_type": "markdown",
      "source": [
        "Python function that accepts a string and calculates the number of uppercase\n",
        "letters and lowercase letters."
      ],
      "metadata": {
        "id": "daiMtnWlvnz1"
      }
    },
    {
      "cell_type": "code",
      "source": [
        "string=\"I want chocolate milkshake with chocolate icecream.\"\n",
        "count_1=0\n",
        "count_2=0\n",
        "for i in string:\n",
        " if i.isupper():\n",
        "  count_1+=1\n",
        " elif i.islower():\n",
        "  count_2+=1\n",
        "else:\n",
        " pass\n",
        "print(\"No.of uppercase alphabets are: \",count_1)\n",
        "print(\"No.of lowercase alphabets are: \",count_2)"
      ],
      "metadata": {
        "colab": {
          "base_uri": "https://localhost:8080/"
        },
        "id": "fd49lRIovpeE",
        "outputId": "29bd5f19-6883-4ae7-bbb8-87c5092f0674"
      },
      "execution_count": null,
      "outputs": [
        {
          "output_type": "stream",
          "name": "stdout",
          "text": [
            "No.of uppercase alphabets are:  1\n",
            "No.of lowercase alphabets are:  43\n"
          ]
        }
      ]
    },
    {
      "cell_type": "markdown",
      "source": [
        "Program to count the number of strings where the string length is 2 or more and\n",
        "the first and last character are same from a given list of strings. Sample List : ['abc', 'xyz', 'aba', '1221'] Expected Result : 2"
      ],
      "metadata": {
        "id": "QQvHei6GwAcM"
      }
    },
    {
      "cell_type": "code",
      "source": [
        "sample_List = ['abc', 'xyz', 'mom','1221','chennai','99']\n",
        "count=0\n",
        "for i in Sample_List:\n",
        " if len(i)>=2:\n",
        "  if i[0]==i[len(i)-1]:\n",
        "   print(i)\n",
        " count+=1\n",
        "print(count)"
      ],
      "metadata": {
        "colab": {
          "base_uri": "https://localhost:8080/"
        },
        "id": "mb-q0qjzwBiD",
        "outputId": "84480fec-0684-4708-e165-cea4834b4c5b"
      },
      "execution_count": null,
      "outputs": [
        {
          "output_type": "stream",
          "name": "stdout",
          "text": [
            "6\n"
          ]
        }
      ]
    }
  ]
}